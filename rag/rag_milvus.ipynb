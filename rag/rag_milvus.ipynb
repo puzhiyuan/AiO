{
 "cells": [
  {
   "cell_type": "markdown",
   "id": "27e3df78",
   "metadata": {},
   "source": [
    "# Milvus 构建 RAG 系统"
   ]
  },
  {
   "cell_type": "markdown",
   "id": "041810d1",
   "metadata": {},
   "source": [
    "## 1. 依赖关系和环境"
   ]
  },
  {
   "cell_type": "code",
   "execution_count": 1,
   "id": "c36c0b20",
   "metadata": {},
   "outputs": [
    {
     "name": "stdout",
     "output_type": "stream",
     "text": [
      "Requirement already satisfied: pymilvus in /home/mark/miniconda3/envs/rag/lib/python3.11/site-packages (2.5.8)\n",
      "Requirement already satisfied: sentence-transformers in /home/mark/miniconda3/envs/rag/lib/python3.11/site-packages (4.1.0)\n",
      "Requirement already satisfied: huggingface-hub in /home/mark/miniconda3/envs/rag/lib/python3.11/site-packages (0.31.2)\n",
      "Requirement already satisfied: langchain_community in /home/mark/miniconda3/envs/rag/lib/python3.11/site-packages (0.3.24)\n",
      "Requirement already satisfied: langchain-text-splitters in /home/mark/miniconda3/envs/rag/lib/python3.11/site-packages (0.3.8)\n",
      "Requirement already satisfied: pypdf in /home/mark/miniconda3/envs/rag/lib/python3.11/site-packages (5.5.0)\n",
      "Requirement already satisfied: tqdm in /home/mark/miniconda3/envs/rag/lib/python3.11/site-packages (4.67.1)\n",
      "Requirement already satisfied: setuptools>69 in /home/mark/miniconda3/envs/rag/lib/python3.11/site-packages (from pymilvus) (78.1.1)\n",
      "Requirement already satisfied: grpcio<=1.67.1,>=1.49.1 in /home/mark/miniconda3/envs/rag/lib/python3.11/site-packages (from pymilvus) (1.67.1)\n",
      "Requirement already satisfied: protobuf>=3.20.0 in /home/mark/miniconda3/envs/rag/lib/python3.11/site-packages (from pymilvus) (6.31.0)\n",
      "Requirement already satisfied: python-dotenv<2.0.0,>=1.0.1 in /home/mark/miniconda3/envs/rag/lib/python3.11/site-packages (from pymilvus) (1.1.0)\n",
      "Requirement already satisfied: ujson>=2.0.0 in /home/mark/miniconda3/envs/rag/lib/python3.11/site-packages (from pymilvus) (5.10.0)\n",
      "Requirement already satisfied: pandas>=1.2.4 in /home/mark/miniconda3/envs/rag/lib/python3.11/site-packages (from pymilvus) (1.5.3)\n",
      "Requirement already satisfied: milvus-lite>=2.4.0 in /home/mark/miniconda3/envs/rag/lib/python3.11/site-packages (from pymilvus) (2.4.12)\n",
      "Requirement already satisfied: transformers<5.0.0,>=4.41.0 in /home/mark/miniconda3/envs/rag/lib/python3.11/site-packages (from sentence-transformers) (4.51.3)\n",
      "Requirement already satisfied: torch>=1.11.0 in /home/mark/miniconda3/envs/rag/lib/python3.11/site-packages (from sentence-transformers) (2.7.0)\n",
      "Requirement already satisfied: scikit-learn in /home/mark/miniconda3/envs/rag/lib/python3.11/site-packages (from sentence-transformers) (1.6.1)\n",
      "Requirement already satisfied: scipy in /home/mark/miniconda3/envs/rag/lib/python3.11/site-packages (from sentence-transformers) (1.15.3)\n",
      "Requirement already satisfied: Pillow in /home/mark/miniconda3/envs/rag/lib/python3.11/site-packages (from sentence-transformers) (11.2.1)\n",
      "Requirement already satisfied: typing_extensions>=4.5.0 in /home/mark/miniconda3/envs/rag/lib/python3.11/site-packages (from sentence-transformers) (4.13.2)\n",
      "Requirement already satisfied: filelock in /home/mark/miniconda3/envs/rag/lib/python3.11/site-packages (from transformers<5.0.0,>=4.41.0->sentence-transformers) (3.18.0)\n",
      "Requirement already satisfied: numpy>=1.17 in /home/mark/miniconda3/envs/rag/lib/python3.11/site-packages (from transformers<5.0.0,>=4.41.0->sentence-transformers) (1.26.4)\n",
      "Requirement already satisfied: packaging>=20.0 in /home/mark/miniconda3/envs/rag/lib/python3.11/site-packages (from transformers<5.0.0,>=4.41.0->sentence-transformers) (24.2)\n",
      "Requirement already satisfied: pyyaml>=5.1 in /home/mark/miniconda3/envs/rag/lib/python3.11/site-packages (from transformers<5.0.0,>=4.41.0->sentence-transformers) (6.0.2)\n",
      "Requirement already satisfied: regex!=2019.12.17 in /home/mark/miniconda3/envs/rag/lib/python3.11/site-packages (from transformers<5.0.0,>=4.41.0->sentence-transformers) (2024.11.6)\n",
      "Requirement already satisfied: requests in /home/mark/miniconda3/envs/rag/lib/python3.11/site-packages (from transformers<5.0.0,>=4.41.0->sentence-transformers) (2.32.3)\n",
      "Requirement already satisfied: tokenizers<0.22,>=0.21 in /home/mark/miniconda3/envs/rag/lib/python3.11/site-packages (from transformers<5.0.0,>=4.41.0->sentence-transformers) (0.21.1)\n",
      "Requirement already satisfied: safetensors>=0.4.3 in /home/mark/miniconda3/envs/rag/lib/python3.11/site-packages (from transformers<5.0.0,>=4.41.0->sentence-transformers) (0.5.3)\n",
      "Requirement already satisfied: fsspec>=2023.5.0 in /home/mark/miniconda3/envs/rag/lib/python3.11/site-packages (from huggingface-hub) (2025.3.0)\n",
      "Requirement already satisfied: langchain-core<1.0.0,>=0.3.59 in /home/mark/miniconda3/envs/rag/lib/python3.11/site-packages (from langchain_community) (0.3.60)\n",
      "Requirement already satisfied: langchain<1.0.0,>=0.3.25 in /home/mark/miniconda3/envs/rag/lib/python3.11/site-packages (from langchain_community) (0.3.25)\n",
      "Requirement already satisfied: SQLAlchemy<3,>=1.4 in /home/mark/miniconda3/envs/rag/lib/python3.11/site-packages (from langchain_community) (2.0.41)\n",
      "Requirement already satisfied: aiohttp<4.0.0,>=3.8.3 in /home/mark/miniconda3/envs/rag/lib/python3.11/site-packages (from langchain_community) (3.11.18)\n",
      "Requirement already satisfied: tenacity!=8.4.0,<10,>=8.1.0 in /home/mark/miniconda3/envs/rag/lib/python3.11/site-packages (from langchain_community) (9.1.2)\n",
      "Requirement already satisfied: dataclasses-json<0.7,>=0.5.7 in /home/mark/miniconda3/envs/rag/lib/python3.11/site-packages (from langchain_community) (0.6.7)\n",
      "Requirement already satisfied: pydantic-settings<3.0.0,>=2.4.0 in /home/mark/miniconda3/envs/rag/lib/python3.11/site-packages (from langchain_community) (2.9.1)\n",
      "Requirement already satisfied: langsmith<0.4,>=0.1.125 in /home/mark/miniconda3/envs/rag/lib/python3.11/site-packages (from langchain_community) (0.3.42)\n",
      "Requirement already satisfied: httpx-sse<1.0.0,>=0.4.0 in /home/mark/miniconda3/envs/rag/lib/python3.11/site-packages (from langchain_community) (0.4.0)\n",
      "Requirement already satisfied: aiohappyeyeballs>=2.3.0 in /home/mark/miniconda3/envs/rag/lib/python3.11/site-packages (from aiohttp<4.0.0,>=3.8.3->langchain_community) (2.6.1)\n",
      "Requirement already satisfied: aiosignal>=1.1.2 in /home/mark/miniconda3/envs/rag/lib/python3.11/site-packages (from aiohttp<4.0.0,>=3.8.3->langchain_community) (1.3.2)\n",
      "Requirement already satisfied: attrs>=17.3.0 in /home/mark/miniconda3/envs/rag/lib/python3.11/site-packages (from aiohttp<4.0.0,>=3.8.3->langchain_community) (25.3.0)\n",
      "Requirement already satisfied: frozenlist>=1.1.1 in /home/mark/miniconda3/envs/rag/lib/python3.11/site-packages (from aiohttp<4.0.0,>=3.8.3->langchain_community) (1.6.0)\n",
      "Requirement already satisfied: multidict<7.0,>=4.5 in /home/mark/miniconda3/envs/rag/lib/python3.11/site-packages (from aiohttp<4.0.0,>=3.8.3->langchain_community) (6.4.3)\n",
      "Requirement already satisfied: propcache>=0.2.0 in /home/mark/miniconda3/envs/rag/lib/python3.11/site-packages (from aiohttp<4.0.0,>=3.8.3->langchain_community) (0.3.1)\n",
      "Requirement already satisfied: yarl<2.0,>=1.17.0 in /home/mark/miniconda3/envs/rag/lib/python3.11/site-packages (from aiohttp<4.0.0,>=3.8.3->langchain_community) (1.20.0)\n",
      "Requirement already satisfied: marshmallow<4.0.0,>=3.18.0 in /home/mark/miniconda3/envs/rag/lib/python3.11/site-packages (from dataclasses-json<0.7,>=0.5.7->langchain_community) (3.26.1)\n",
      "Requirement already satisfied: typing-inspect<1,>=0.4.0 in /home/mark/miniconda3/envs/rag/lib/python3.11/site-packages (from dataclasses-json<0.7,>=0.5.7->langchain_community) (0.9.0)\n",
      "Requirement already satisfied: pydantic<3.0.0,>=2.7.4 in /home/mark/miniconda3/envs/rag/lib/python3.11/site-packages (from langchain<1.0.0,>=0.3.25->langchain_community) (2.11.4)\n",
      "Requirement already satisfied: jsonpatch<2.0,>=1.33 in /home/mark/miniconda3/envs/rag/lib/python3.11/site-packages (from langchain-core<1.0.0,>=0.3.59->langchain_community) (1.33)\n",
      "Requirement already satisfied: jsonpointer>=1.9 in /home/mark/miniconda3/envs/rag/lib/python3.11/site-packages (from jsonpatch<2.0,>=1.33->langchain-core<1.0.0,>=0.3.59->langchain_community) (3.0.0)\n",
      "Requirement already satisfied: httpx<1,>=0.23.0 in /home/mark/miniconda3/envs/rag/lib/python3.11/site-packages (from langsmith<0.4,>=0.1.125->langchain_community) (0.28.1)\n",
      "Requirement already satisfied: orjson<4.0.0,>=3.9.14 in /home/mark/miniconda3/envs/rag/lib/python3.11/site-packages (from langsmith<0.4,>=0.1.125->langchain_community) (3.10.18)\n",
      "Requirement already satisfied: requests-toolbelt<2.0.0,>=1.0.0 in /home/mark/miniconda3/envs/rag/lib/python3.11/site-packages (from langsmith<0.4,>=0.1.125->langchain_community) (1.0.0)\n",
      "Requirement already satisfied: zstandard<0.24.0,>=0.23.0 in /home/mark/miniconda3/envs/rag/lib/python3.11/site-packages (from langsmith<0.4,>=0.1.125->langchain_community) (0.23.0)\n",
      "Requirement already satisfied: anyio in /home/mark/miniconda3/envs/rag/lib/python3.11/site-packages (from httpx<1,>=0.23.0->langsmith<0.4,>=0.1.125->langchain_community) (4.9.0)\n",
      "Requirement already satisfied: certifi in /home/mark/miniconda3/envs/rag/lib/python3.11/site-packages (from httpx<1,>=0.23.0->langsmith<0.4,>=0.1.125->langchain_community) (2025.4.26)\n",
      "Requirement already satisfied: httpcore==1.* in /home/mark/miniconda3/envs/rag/lib/python3.11/site-packages (from httpx<1,>=0.23.0->langsmith<0.4,>=0.1.125->langchain_community) (1.0.9)\n",
      "Requirement already satisfied: idna in /home/mark/miniconda3/envs/rag/lib/python3.11/site-packages (from httpx<1,>=0.23.0->langsmith<0.4,>=0.1.125->langchain_community) (3.10)\n",
      "Requirement already satisfied: h11>=0.16 in /home/mark/miniconda3/envs/rag/lib/python3.11/site-packages (from httpcore==1.*->httpx<1,>=0.23.0->langsmith<0.4,>=0.1.125->langchain_community) (0.16.0)\n",
      "Requirement already satisfied: annotated-types>=0.6.0 in /home/mark/miniconda3/envs/rag/lib/python3.11/site-packages (from pydantic<3.0.0,>=2.7.4->langchain<1.0.0,>=0.3.25->langchain_community) (0.7.0)\n",
      "Requirement already satisfied: pydantic-core==2.33.2 in /home/mark/miniconda3/envs/rag/lib/python3.11/site-packages (from pydantic<3.0.0,>=2.7.4->langchain<1.0.0,>=0.3.25->langchain_community) (2.33.2)\n",
      "Requirement already satisfied: typing-inspection>=0.4.0 in /home/mark/miniconda3/envs/rag/lib/python3.11/site-packages (from pydantic<3.0.0,>=2.7.4->langchain<1.0.0,>=0.3.25->langchain_community) (0.4.0)\n",
      "Requirement already satisfied: charset-normalizer<4,>=2 in /home/mark/miniconda3/envs/rag/lib/python3.11/site-packages (from requests->transformers<5.0.0,>=4.41.0->sentence-transformers) (3.4.2)\n",
      "Requirement already satisfied: urllib3<3,>=1.21.1 in /home/mark/miniconda3/envs/rag/lib/python3.11/site-packages (from requests->transformers<5.0.0,>=4.41.0->sentence-transformers) (2.4.0)\n",
      "Requirement already satisfied: greenlet>=1 in /home/mark/miniconda3/envs/rag/lib/python3.11/site-packages (from SQLAlchemy<3,>=1.4->langchain_community) (3.2.2)\n",
      "Requirement already satisfied: mypy-extensions>=0.3.0 in /home/mark/miniconda3/envs/rag/lib/python3.11/site-packages (from typing-inspect<1,>=0.4.0->dataclasses-json<0.7,>=0.5.7->langchain_community) (1.1.0)\n",
      "Requirement already satisfied: python-dateutil>=2.8.1 in /home/mark/miniconda3/envs/rag/lib/python3.11/site-packages (from pandas>=1.2.4->pymilvus) (2.9.0.post0)\n",
      "Requirement already satisfied: pytz>=2020.1 in /home/mark/miniconda3/envs/rag/lib/python3.11/site-packages (from pandas>=1.2.4->pymilvus) (2025.2)\n",
      "Requirement already satisfied: six>=1.5 in /home/mark/miniconda3/envs/rag/lib/python3.11/site-packages (from python-dateutil>=2.8.1->pandas>=1.2.4->pymilvus) (1.17.0)\n",
      "Requirement already satisfied: sympy>=1.13.3 in /home/mark/miniconda3/envs/rag/lib/python3.11/site-packages (from torch>=1.11.0->sentence-transformers) (1.14.0)\n",
      "Requirement already satisfied: networkx in /home/mark/miniconda3/envs/rag/lib/python3.11/site-packages (from torch>=1.11.0->sentence-transformers) (3.4.2)\n",
      "Requirement already satisfied: jinja2 in /home/mark/miniconda3/envs/rag/lib/python3.11/site-packages (from torch>=1.11.0->sentence-transformers) (3.1.6)\n",
      "Requirement already satisfied: nvidia-cuda-nvrtc-cu12==12.6.77 in /home/mark/miniconda3/envs/rag/lib/python3.11/site-packages (from torch>=1.11.0->sentence-transformers) (12.6.77)\n",
      "Requirement already satisfied: nvidia-cuda-runtime-cu12==12.6.77 in /home/mark/miniconda3/envs/rag/lib/python3.11/site-packages (from torch>=1.11.0->sentence-transformers) (12.6.77)\n",
      "Requirement already satisfied: nvidia-cuda-cupti-cu12==12.6.80 in /home/mark/miniconda3/envs/rag/lib/python3.11/site-packages (from torch>=1.11.0->sentence-transformers) (12.6.80)\n",
      "Requirement already satisfied: nvidia-cudnn-cu12==9.5.1.17 in /home/mark/miniconda3/envs/rag/lib/python3.11/site-packages (from torch>=1.11.0->sentence-transformers) (9.5.1.17)\n",
      "Requirement already satisfied: nvidia-cublas-cu12==12.6.4.1 in /home/mark/miniconda3/envs/rag/lib/python3.11/site-packages (from torch>=1.11.0->sentence-transformers) (12.6.4.1)\n",
      "Requirement already satisfied: nvidia-cufft-cu12==11.3.0.4 in /home/mark/miniconda3/envs/rag/lib/python3.11/site-packages (from torch>=1.11.0->sentence-transformers) (11.3.0.4)\n",
      "Requirement already satisfied: nvidia-curand-cu12==10.3.7.77 in /home/mark/miniconda3/envs/rag/lib/python3.11/site-packages (from torch>=1.11.0->sentence-transformers) (10.3.7.77)\n",
      "Requirement already satisfied: nvidia-cusolver-cu12==11.7.1.2 in /home/mark/miniconda3/envs/rag/lib/python3.11/site-packages (from torch>=1.11.0->sentence-transformers) (11.7.1.2)\n",
      "Requirement already satisfied: nvidia-cusparse-cu12==12.5.4.2 in /home/mark/miniconda3/envs/rag/lib/python3.11/site-packages (from torch>=1.11.0->sentence-transformers) (12.5.4.2)\n",
      "Requirement already satisfied: nvidia-cusparselt-cu12==0.6.3 in /home/mark/miniconda3/envs/rag/lib/python3.11/site-packages (from torch>=1.11.0->sentence-transformers) (0.6.3)\n",
      "Requirement already satisfied: nvidia-nccl-cu12==2.26.2 in /home/mark/miniconda3/envs/rag/lib/python3.11/site-packages (from torch>=1.11.0->sentence-transformers) (2.26.2)\n",
      "Requirement already satisfied: nvidia-nvtx-cu12==12.6.77 in /home/mark/miniconda3/envs/rag/lib/python3.11/site-packages (from torch>=1.11.0->sentence-transformers) (12.6.77)\n",
      "Requirement already satisfied: nvidia-nvjitlink-cu12==12.6.85 in /home/mark/miniconda3/envs/rag/lib/python3.11/site-packages (from torch>=1.11.0->sentence-transformers) (12.6.85)\n",
      "Requirement already satisfied: nvidia-cufile-cu12==1.11.1.6 in /home/mark/miniconda3/envs/rag/lib/python3.11/site-packages (from torch>=1.11.0->sentence-transformers) (1.11.1.6)\n",
      "Requirement already satisfied: triton==3.3.0 in /home/mark/miniconda3/envs/rag/lib/python3.11/site-packages (from torch>=1.11.0->sentence-transformers) (3.3.0)\n",
      "Requirement already satisfied: mpmath<1.4,>=1.1.0 in /home/mark/miniconda3/envs/rag/lib/python3.11/site-packages (from sympy>=1.13.3->torch>=1.11.0->sentence-transformers) (1.3.0)\n",
      "Requirement already satisfied: sniffio>=1.1 in /home/mark/miniconda3/envs/rag/lib/python3.11/site-packages (from anyio->httpx<1,>=0.23.0->langsmith<0.4,>=0.1.125->langchain_community) (1.3.1)\n",
      "Requirement already satisfied: MarkupSafe>=2.0 in /home/mark/miniconda3/envs/rag/lib/python3.11/site-packages (from jinja2->torch>=1.11.0->sentence-transformers) (3.0.2)\n",
      "Requirement already satisfied: joblib>=1.2.0 in /home/mark/miniconda3/envs/rag/lib/python3.11/site-packages (from scikit-learn->sentence-transformers) (1.5.0)\n",
      "Requirement already satisfied: threadpoolctl>=3.1.0 in /home/mark/miniconda3/envs/rag/lib/python3.11/site-packages (from scikit-learn->sentence-transformers) (3.6.0)\n"
     ]
    }
   ],
   "source": [
    "! pip install --upgrade pymilvus sentence-transformers huggingface-hub langchain_community langchain-text-splitters pypdf tqdm"
   ]
  },
  {
   "cell_type": "markdown",
   "id": "78ce0a1a",
   "metadata": {},
   "source": [
    "## 2. 数据"
   ]
  },
  {
   "cell_type": "code",
   "execution_count": 2,
   "id": "b505cac1",
   "metadata": {},
   "outputs": [],
   "source": [
    "%%bash\n",
    "# 下载 PDF 文件\n",
    "if [ ! -f \"The-AI-Act.pdf\" ]; then\n",
    "    wget -q https://artificialintelligenceact.eu/wp-content/uploads/2021/08/The-AI-Act.pdf\n",
    "fi"
   ]
  },
  {
   "cell_type": "code",
   "execution_count": 3,
   "id": "a204bb0e",
   "metadata": {},
   "outputs": [
    {
     "name": "stdout",
     "output_type": "stream",
     "text": [
      "108\n"
     ]
    }
   ],
   "source": [
    "from langchain_community.document_loaders import PyPDFLoader\n",
    "# 使用 LangChain 的 PyPDFLoader 从 PDF 中提取文本\n",
    "loader = PyPDFLoader(\"The-AI-Act.pdf\")\n",
    "docs = loader.load()\n",
    "print(len(docs))"
   ]
  },
  {
   "cell_type": "code",
   "execution_count": 4,
   "id": "78a395a6",
   "metadata": {},
   "outputs": [],
   "source": [
    "from langchain_text_splitters import RecursiveCharacterTextSplitter\n",
    "# 将块大小设置为 1000，重叠设置为 200\n",
    "text_splitter = RecursiveCharacterTextSplitter(chunk_size=1000, chunk_overlap=200)\n",
    "chunks = text_splitter.split_documents(docs)"
   ]
  },
  {
   "cell_type": "code",
   "execution_count": 5,
   "id": "a0b22fb0",
   "metadata": {},
   "outputs": [],
   "source": [
    "text_lines = [chunk.page_content for chunk in chunks]"
   ]
  },
  {
   "cell_type": "markdown",
   "id": "df86b98e",
   "metadata": {},
   "source": [
    "## 3. embedding 模型"
   ]
  },
  {
   "cell_type": "code",
   "execution_count": 6,
   "id": "4899cf01",
   "metadata": {},
   "outputs": [],
   "source": [
    "from sentence_transformers import SentenceTransformer\n",
    "# TODO: 可以使用 GPU 加速， device=\"cuda\"\n",
    "embedding_model = SentenceTransformer(\"BAAI/bge-small-en-v1.5\", device=\"cpu\")\n",
    "\n",
    "\n",
    "def emb_text(text):\n",
    "    return embedding_model.encode([text], normalize_embeddings=True).tolist()[0]"
   ]
  },
  {
   "cell_type": "code",
   "execution_count": 7,
   "id": "b6894c1d",
   "metadata": {},
   "outputs": [
    {
     "name": "stdout",
     "output_type": "stream",
     "text": [
      "embedding_dim: 384\n",
      "[-0.07660678774118423, 0.025316720828413963, 0.012505537830293179, 0.004595226142555475, 0.025779981166124344, 0.0381670817732811, 0.08050811290740967, 0.003035373752936721, 0.02439219132065773, 0.004880373831838369]\n"
     ]
    }
   ],
   "source": [
    "test_embedding = emb_text(\"This is a test\")\n",
    "embedding_dim = len(test_embedding)\n",
    "print(f\"embedding_dim: {embedding_dim}\")\n",
    "print(test_embedding[:10])"
   ]
  },
  {
   "cell_type": "markdown",
   "id": "007a5a6b",
   "metadata": {},
   "source": [
    "## 3. 数据加载到 Milvus 中\n",
    "> 对于 MilvusClient 的参数：\n",
    "> - 将 uri 设置为本地文件，例如 ./hf_milvus_demo.db ，是最方便的方法，因为它会自动使用 Milvus Lite 将所有数据存储在此文件中。\n",
    "> - 如果您有大量数据，例如超过一百万个向量，您可以在 Docker 或 Kubernetes 上设置性能更高的 Milvus 服务器。在此设置中，请使用服务器 uri，例如 http://localhost:19530 作为您的 uri 。\n",
    "> - 如果您想使用 Milvus 的全托管云服务 Zilliz Cloud ，请调整 uri 和 token，分别对应 Zilliz Cloud 中 Public Endpoint 和 Api key 。"
   ]
  },
  {
   "cell_type": "code",
   "execution_count": 8,
   "id": "3bc765cf",
   "metadata": {},
   "outputs": [],
   "source": [
    "from pymilvus import MilvusClient\n",
    "\n",
    "milvus_client = MilvusClient(uri=\"./hf_milvus_demo.db\")\n",
    "\n",
    "collection_name = \"rag_collection\""
   ]
  },
  {
   "cell_type": "code",
   "execution_count": 9,
   "id": "e7c07344",
   "metadata": {},
   "outputs": [],
   "source": [
    "# 检查 collection 是否已存在，如果存在则将其删除\n",
    "if milvus_client.has_collection(collection_name):\n",
    "    milvus_client.drop_collection(collection_name)"
   ]
  },
  {
   "cell_type": "code",
   "execution_count": null,
   "id": "fec5e5d6",
   "metadata": {},
   "outputs": [],
   "source": [
    "# 创建一个新 collection\n",
    "milvus_client.create_collection(\n",
    "    collection_name=collection_name,\n",
    "    dimension=embedding_dim,\n",
    "    metric_type=\"IP\",  # 内积\n",
    "    consistency_level=\"Strong\",  # 强一致性\n",
    ")"
   ]
  },
  {
   "cell_type": "code",
   "execution_count": 11,
   "id": "cde88791",
   "metadata": {},
   "outputs": [
    {
     "name": "stderr",
     "output_type": "stream",
     "text": [
      "Creating embeddings: 100%|██████████| 424/424 [00:09<00:00, 42.81it/s]\n"
     ]
    },
    {
     "data": {
      "text/plain": [
       "424"
      ]
     },
     "execution_count": 11,
     "metadata": {},
     "output_type": "execute_result"
    }
   ],
   "source": [
    "# 上传数据库\n",
    "from tqdm import tqdm\n",
    "\n",
    "data = []\n",
    "\n",
    "for i, line in enumerate(tqdm(text_lines, desc=\"Creating embeddings\")):\n",
    "    data.append({\"id\": i, \"vector\": emb_text(line), \"text\": line})\n",
    "\n",
    "insert_res = milvus_client.insert(collection_name=collection_name, data=data)\n",
    "insert_res[\"insert_count\"]"
   ]
  },
  {
   "cell_type": "markdown",
   "id": "c47ecf84",
   "metadata": {},
   "source": [
    "## 4. 构建 RAG"
   ]
  },
  {
   "cell_type": "code",
   "execution_count": 12,
   "id": "cd7fa563",
   "metadata": {},
   "outputs": [],
   "source": [
    "# 用户查询\n",
    "question = \"What is the legal basis for the proposal?\""
   ]
  },
  {
   "cell_type": "code",
   "execution_count": null,
   "id": "5ab71b28",
   "metadata": {},
   "outputs": [],
   "source": [
    "# 检索\n",
    "search_res = milvus_client.search(\n",
    "    collection_name=collection_name,\n",
    "    data=[emb_text(question)],  # 使用模型对问题进行编码\n",
    "    limit=3,  # 返回前 3 个最相似的结果\n",
    "    search_params={\"metric_type\": \"IP\", \"params\": {}},  # 使用内积度量\n",
    "    output_fields=[\"text\"],  # 指定要返回的字段\n",
    ")"
   ]
  },
  {
   "cell_type": "code",
   "execution_count": 14,
   "id": "f5e388eb",
   "metadata": {},
   "outputs": [
    {
     "name": "stdout",
     "output_type": "stream",
     "text": [
      "[\n",
      "    [\n",
      "        \"EN 6  EN \\n2. LEGAL BASIS, SUBSIDIARITY AND PROPORTIONALITY \\n2.1. Legal basis \\nThe legal basis for the proposal is in the first place Article 114 of the Treaty on the \\nFunctioning of the European Union (TFEU), which provides for the adoption of measures to \\nensure the establishment and functioning of the internal market.  \\nThis proposal constitutes a core part of the EU digital single market strategy. The primary \\nobjective of this proposal is to ensure the proper functioning of the internal market by setting \\nharmonised rules in particular on the development, placing on the Union market and the use \\nof products and services making use of AI technologies or provided as stand -alone AI \\nsystems. Some Member States are already considering national rules to ensure that AI is safe \\nand is developed and used in compliance with fundamental rights obligations. This will likely \\nlead to two main problems: i) a fragmentation of the internal market on essential elements\",\n",
      "        0.7306113243103027\n",
      "    ],\n",
      "    [\n",
      "        \"applications and prevent market fragmentation. \\nTo achieve those objectives, this proposal presents a balanced and proportionate horizontal \\nregulatory approach to AI that is limited to the minimum necessary requirements to address \\nthe risks and problems linked to AI, withou t unduly constraining or hindering technological \\ndevelopment or otherwise disproportionately increasing the cost of placing AI solutions on \\nthe market. The proposal sets a robust and flexible legal framework. On the one hand, it is \\ncomprehensive and future -proof in its fundamental regulatory choices, including the \\nprinciple-based requirements that AI systems should comply with. On the other hand, it puts \\nin place a proportionate regulatory system centred on a well -defined risk -based regulatory \\napproach that does not create unnecessary restrictions to trade, whereby legal intervention is \\ntailored to those concrete situations where there is a justified cause for concern or where such\",\n",
      "        0.6964290142059326\n",
      "    ],\n",
      "    [\n",
      "        \"approach that does not create unnecessary restrictions to trade, whereby legal intervention is \\ntailored to those concrete situations where there is a justified cause for concern or where such \\nconcern can reasonably be anticipated in the near future. At the same time, t he legal \\nframework includes flexible mechanisms that enable it to be dynamically adapted as the \\ntechnology evolves and new concerning situations emerge. \\nThe proposal sets harmonised rules for the development, placement on the market and use of \\nAI systems i n the Union following a proportionate risk -based approach. It proposes a single \\nfuture-proof definition of AI. Certain particularly harmful AI practices are prohibited as \\ncontravening Union values, while specific restrictions and safeguards are proposed in  relation \\nto certain uses of remote biometric identification systems for the purpose of law enforcement. \\nThe proposal lays down a solid risk methodology to define \\u201chigh -risk\\u201d AI systems that pose\",\n",
      "        0.6891459226608276\n",
      "    ]\n",
      "]\n"
     ]
    }
   ],
   "source": [
    "import json\n",
    "\n",
    "retrieved_lines_with_distances = [(res[\"entity\"][\"text\"], res[\"distance\"]) for res in search_res[0]]\n",
    "print(json.dumps(retrieved_lines_with_distances, indent=4))"
   ]
  }
 ],
 "metadata": {
  "kernelspec": {
   "display_name": "rag",
   "language": "python",
   "name": "python3"
  },
  "language_info": {
   "codemirror_mode": {
    "name": "ipython",
    "version": 3
   },
   "file_extension": ".py",
   "mimetype": "text/x-python",
   "name": "python",
   "nbconvert_exporter": "python",
   "pygments_lexer": "ipython3",
   "version": "3.11.11"
  }
 },
 "nbformat": 4,
 "nbformat_minor": 5
}
