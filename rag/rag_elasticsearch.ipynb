{
 "cells": [
  {
   "cell_type": "markdown",
   "id": "406a4325",
   "metadata": {},
   "source": [
    "# Elasticsearch 构建 RAG 系统"
   ]
  },
  {
   "cell_type": "markdown",
   "id": "d32662dd",
   "metadata": {},
   "source": [
    "## 1. 依赖关系和环境"
   ]
  },
  {
   "cell_type": "code",
   "execution_count": 1,
   "id": "53e72f75",
   "metadata": {},
   "outputs": [
    {
     "name": "stdout",
     "output_type": "stream",
     "text": [
      "Requirement already satisfied: elasticsearch in /home/mark/miniconda3/envs/rag/lib/python3.11/site-packages (8.18.1)\n",
      "Requirement already satisfied: sentence_transformers in /home/mark/miniconda3/envs/rag/lib/python3.11/site-packages (4.1.0)\n",
      "Requirement already satisfied: transformers in /home/mark/miniconda3/envs/rag/lib/python3.11/site-packages (4.51.3)\n",
      "Requirement already satisfied: eland==8.12.1 in /home/mark/miniconda3/envs/rag/lib/python3.11/site-packages (8.12.1)\n",
      "Requirement already satisfied: pandas<2,>=1.5 in /home/mark/miniconda3/envs/rag/lib/python3.11/site-packages (from eland==8.12.1) (1.5.3)\n",
      "Requirement already satisfied: matplotlib>=3.6 in /home/mark/miniconda3/envs/rag/lib/python3.11/site-packages (from eland==8.12.1) (3.10.3)\n",
      "Requirement already satisfied: numpy<2,>=1.2.0 in /home/mark/miniconda3/envs/rag/lib/python3.11/site-packages (from eland==8.12.1) (1.26.4)\n",
      "Requirement already satisfied: packaging in /home/mark/miniconda3/envs/rag/lib/python3.11/site-packages (from eland==8.12.1) (24.2)\n",
      "Requirement already satisfied: elastic-transport<9,>=8.15.1 in /home/mark/miniconda3/envs/rag/lib/python3.11/site-packages (from elasticsearch) (8.17.1)\n",
      "Requirement already satisfied: python-dateutil in /home/mark/miniconda3/envs/rag/lib/python3.11/site-packages (from elasticsearch) (2.9.0.post0)\n",
      "Requirement already satisfied: typing-extensions in /home/mark/miniconda3/envs/rag/lib/python3.11/site-packages (from elasticsearch) (4.13.2)\n",
      "Requirement already satisfied: urllib3<3,>=1.26.2 in /home/mark/miniconda3/envs/rag/lib/python3.11/site-packages (from elastic-transport<9,>=8.15.1->elasticsearch) (2.4.0)\n",
      "Requirement already satisfied: certifi in /home/mark/miniconda3/envs/rag/lib/python3.11/site-packages (from elastic-transport<9,>=8.15.1->elasticsearch) (2025.4.26)\n",
      "Requirement already satisfied: pytz>=2020.1 in /home/mark/miniconda3/envs/rag/lib/python3.11/site-packages (from pandas<2,>=1.5->eland==8.12.1) (2025.2)\n",
      "Requirement already satisfied: tqdm in /home/mark/miniconda3/envs/rag/lib/python3.11/site-packages (from sentence_transformers) (4.67.1)\n",
      "Requirement already satisfied: torch>=1.11.0 in /home/mark/miniconda3/envs/rag/lib/python3.11/site-packages (from sentence_transformers) (2.7.0)\n",
      "Requirement already satisfied: scikit-learn in /home/mark/miniconda3/envs/rag/lib/python3.11/site-packages (from sentence_transformers) (1.6.1)\n",
      "Requirement already satisfied: scipy in /home/mark/miniconda3/envs/rag/lib/python3.11/site-packages (from sentence_transformers) (1.15.3)\n",
      "Requirement already satisfied: huggingface-hub>=0.20.0 in /home/mark/miniconda3/envs/rag/lib/python3.11/site-packages (from sentence_transformers) (0.31.2)\n",
      "Requirement already satisfied: Pillow in /home/mark/miniconda3/envs/rag/lib/python3.11/site-packages (from sentence_transformers) (11.2.1)\n",
      "Requirement already satisfied: filelock in /home/mark/miniconda3/envs/rag/lib/python3.11/site-packages (from transformers) (3.18.0)\n",
      "Requirement already satisfied: pyyaml>=5.1 in /home/mark/miniconda3/envs/rag/lib/python3.11/site-packages (from transformers) (6.0.2)\n",
      "Requirement already satisfied: regex!=2019.12.17 in /home/mark/miniconda3/envs/rag/lib/python3.11/site-packages (from transformers) (2024.11.6)\n",
      "Requirement already satisfied: requests in /home/mark/miniconda3/envs/rag/lib/python3.11/site-packages (from transformers) (2.32.3)\n",
      "Requirement already satisfied: tokenizers<0.22,>=0.21 in /home/mark/miniconda3/envs/rag/lib/python3.11/site-packages (from transformers) (0.21.1)\n",
      "Requirement already satisfied: safetensors>=0.4.3 in /home/mark/miniconda3/envs/rag/lib/python3.11/site-packages (from transformers) (0.5.3)\n",
      "Requirement already satisfied: fsspec>=2023.5.0 in /home/mark/miniconda3/envs/rag/lib/python3.11/site-packages (from huggingface-hub>=0.20.0->sentence_transformers) (2024.3.1)\n",
      "Requirement already satisfied: contourpy>=1.0.1 in /home/mark/miniconda3/envs/rag/lib/python3.11/site-packages (from matplotlib>=3.6->eland==8.12.1) (1.3.2)\n",
      "Requirement already satisfied: cycler>=0.10 in /home/mark/miniconda3/envs/rag/lib/python3.11/site-packages (from matplotlib>=3.6->eland==8.12.1) (0.12.1)\n",
      "Requirement already satisfied: fonttools>=4.22.0 in /home/mark/miniconda3/envs/rag/lib/python3.11/site-packages (from matplotlib>=3.6->eland==8.12.1) (4.58.0)\n",
      "Requirement already satisfied: kiwisolver>=1.3.1 in /home/mark/miniconda3/envs/rag/lib/python3.11/site-packages (from matplotlib>=3.6->eland==8.12.1) (1.4.8)\n",
      "Requirement already satisfied: pyparsing>=2.3.1 in /home/mark/miniconda3/envs/rag/lib/python3.11/site-packages (from matplotlib>=3.6->eland==8.12.1) (3.2.3)\n",
      "Requirement already satisfied: six>=1.5 in /home/mark/miniconda3/envs/rag/lib/python3.11/site-packages (from python-dateutil->elasticsearch) (1.17.0)\n",
      "Requirement already satisfied: sympy>=1.13.3 in /home/mark/miniconda3/envs/rag/lib/python3.11/site-packages (from torch>=1.11.0->sentence_transformers) (1.14.0)\n",
      "Requirement already satisfied: networkx in /home/mark/miniconda3/envs/rag/lib/python3.11/site-packages (from torch>=1.11.0->sentence_transformers) (3.4.2)\n",
      "Requirement already satisfied: jinja2 in /home/mark/miniconda3/envs/rag/lib/python3.11/site-packages (from torch>=1.11.0->sentence_transformers) (3.1.6)\n",
      "Requirement already satisfied: nvidia-cuda-nvrtc-cu12==12.6.77 in /home/mark/miniconda3/envs/rag/lib/python3.11/site-packages (from torch>=1.11.0->sentence_transformers) (12.6.77)\n",
      "Requirement already satisfied: nvidia-cuda-runtime-cu12==12.6.77 in /home/mark/miniconda3/envs/rag/lib/python3.11/site-packages (from torch>=1.11.0->sentence_transformers) (12.6.77)\n",
      "Requirement already satisfied: nvidia-cuda-cupti-cu12==12.6.80 in /home/mark/miniconda3/envs/rag/lib/python3.11/site-packages (from torch>=1.11.0->sentence_transformers) (12.6.80)\n",
      "Requirement already satisfied: nvidia-cudnn-cu12==9.5.1.17 in /home/mark/miniconda3/envs/rag/lib/python3.11/site-packages (from torch>=1.11.0->sentence_transformers) (9.5.1.17)\n",
      "Requirement already satisfied: nvidia-cublas-cu12==12.6.4.1 in /home/mark/miniconda3/envs/rag/lib/python3.11/site-packages (from torch>=1.11.0->sentence_transformers) (12.6.4.1)\n",
      "Requirement already satisfied: nvidia-cufft-cu12==11.3.0.4 in /home/mark/miniconda3/envs/rag/lib/python3.11/site-packages (from torch>=1.11.0->sentence_transformers) (11.3.0.4)\n",
      "Requirement already satisfied: nvidia-curand-cu12==10.3.7.77 in /home/mark/miniconda3/envs/rag/lib/python3.11/site-packages (from torch>=1.11.0->sentence_transformers) (10.3.7.77)\n",
      "Requirement already satisfied: nvidia-cusolver-cu12==11.7.1.2 in /home/mark/miniconda3/envs/rag/lib/python3.11/site-packages (from torch>=1.11.0->sentence_transformers) (11.7.1.2)\n",
      "Requirement already satisfied: nvidia-cusparse-cu12==12.5.4.2 in /home/mark/miniconda3/envs/rag/lib/python3.11/site-packages (from torch>=1.11.0->sentence_transformers) (12.5.4.2)\n",
      "Requirement already satisfied: nvidia-cusparselt-cu12==0.6.3 in /home/mark/miniconda3/envs/rag/lib/python3.11/site-packages (from torch>=1.11.0->sentence_transformers) (0.6.3)\n",
      "Requirement already satisfied: nvidia-nccl-cu12==2.26.2 in /home/mark/miniconda3/envs/rag/lib/python3.11/site-packages (from torch>=1.11.0->sentence_transformers) (2.26.2)\n",
      "Requirement already satisfied: nvidia-nvtx-cu12==12.6.77 in /home/mark/miniconda3/envs/rag/lib/python3.11/site-packages (from torch>=1.11.0->sentence_transformers) (12.6.77)\n",
      "Requirement already satisfied: nvidia-nvjitlink-cu12==12.6.85 in /home/mark/miniconda3/envs/rag/lib/python3.11/site-packages (from torch>=1.11.0->sentence_transformers) (12.6.85)\n",
      "Requirement already satisfied: nvidia-cufile-cu12==1.11.1.6 in /home/mark/miniconda3/envs/rag/lib/python3.11/site-packages (from torch>=1.11.0->sentence_transformers) (1.11.1.6)\n",
      "Requirement already satisfied: triton==3.3.0 in /home/mark/miniconda3/envs/rag/lib/python3.11/site-packages (from torch>=1.11.0->sentence_transformers) (3.3.0)\n",
      "Requirement already satisfied: setuptools>=40.8.0 in /home/mark/miniconda3/envs/rag/lib/python3.11/site-packages (from triton==3.3.0->torch>=1.11.0->sentence_transformers) (78.1.1)\n",
      "Requirement already satisfied: mpmath<1.4,>=1.1.0 in /home/mark/miniconda3/envs/rag/lib/python3.11/site-packages (from sympy>=1.13.3->torch>=1.11.0->sentence_transformers) (1.3.0)\n",
      "Requirement already satisfied: MarkupSafe>=2.0 in /home/mark/miniconda3/envs/rag/lib/python3.11/site-packages (from jinja2->torch>=1.11.0->sentence_transformers) (3.0.2)\n",
      "Requirement already satisfied: charset-normalizer<4,>=2 in /home/mark/miniconda3/envs/rag/lib/python3.11/site-packages (from requests->transformers) (3.4.2)\n",
      "Requirement already satisfied: idna<4,>=2.5 in /home/mark/miniconda3/envs/rag/lib/python3.11/site-packages (from requests->transformers) (3.10)\n",
      "Requirement already satisfied: joblib>=1.2.0 in /home/mark/miniconda3/envs/rag/lib/python3.11/site-packages (from scikit-learn->sentence_transformers) (1.5.0)\n",
      "Requirement already satisfied: threadpoolctl>=3.1.0 in /home/mark/miniconda3/envs/rag/lib/python3.11/site-packages (from scikit-learn->sentence_transformers) (3.6.0)\n",
      "Requirement already satisfied: datasets==2.19.2 in /home/mark/miniconda3/envs/rag/lib/python3.11/site-packages (2.19.2)\n",
      "Requirement already satisfied: filelock in /home/mark/miniconda3/envs/rag/lib/python3.11/site-packages (from datasets==2.19.2) (3.18.0)\n",
      "Requirement already satisfied: numpy>=1.17 in /home/mark/miniconda3/envs/rag/lib/python3.11/site-packages (from datasets==2.19.2) (1.26.4)\n",
      "Requirement already satisfied: pyarrow>=12.0.0 in /home/mark/miniconda3/envs/rag/lib/python3.11/site-packages (from datasets==2.19.2) (20.0.0)\n",
      "Requirement already satisfied: pyarrow-hotfix in /home/mark/miniconda3/envs/rag/lib/python3.11/site-packages (from datasets==2.19.2) (0.7)\n",
      "Requirement already satisfied: dill<0.3.9,>=0.3.0 in /home/mark/miniconda3/envs/rag/lib/python3.11/site-packages (from datasets==2.19.2) (0.3.8)\n",
      "Requirement already satisfied: pandas in /home/mark/miniconda3/envs/rag/lib/python3.11/site-packages (from datasets==2.19.2) (1.5.3)\n",
      "Requirement already satisfied: requests>=2.32.1 in /home/mark/miniconda3/envs/rag/lib/python3.11/site-packages (from datasets==2.19.2) (2.32.3)\n",
      "Requirement already satisfied: tqdm>=4.62.1 in /home/mark/miniconda3/envs/rag/lib/python3.11/site-packages (from datasets==2.19.2) (4.67.1)\n",
      "Requirement already satisfied: xxhash in /home/mark/miniconda3/envs/rag/lib/python3.11/site-packages (from datasets==2.19.2) (3.5.0)\n",
      "Requirement already satisfied: multiprocess in /home/mark/miniconda3/envs/rag/lib/python3.11/site-packages (from datasets==2.19.2) (0.70.16)\n",
      "Requirement already satisfied: fsspec<=2024.3.1,>=2023.1.0 in /home/mark/miniconda3/envs/rag/lib/python3.11/site-packages (from fsspec[http]<=2024.3.1,>=2023.1.0->datasets==2.19.2) (2024.3.1)\n",
      "Requirement already satisfied: aiohttp in /home/mark/miniconda3/envs/rag/lib/python3.11/site-packages (from datasets==2.19.2) (3.11.18)\n",
      "Requirement already satisfied: huggingface-hub>=0.21.2 in /home/mark/miniconda3/envs/rag/lib/python3.11/site-packages (from datasets==2.19.2) (0.31.2)\n",
      "Requirement already satisfied: packaging in /home/mark/miniconda3/envs/rag/lib/python3.11/site-packages (from datasets==2.19.2) (24.2)\n",
      "Requirement already satisfied: pyyaml>=5.1 in /home/mark/miniconda3/envs/rag/lib/python3.11/site-packages (from datasets==2.19.2) (6.0.2)\n",
      "Requirement already satisfied: aiohappyeyeballs>=2.3.0 in /home/mark/miniconda3/envs/rag/lib/python3.11/site-packages (from aiohttp->datasets==2.19.2) (2.6.1)\n",
      "Requirement already satisfied: aiosignal>=1.1.2 in /home/mark/miniconda3/envs/rag/lib/python3.11/site-packages (from aiohttp->datasets==2.19.2) (1.3.2)\n",
      "Requirement already satisfied: attrs>=17.3.0 in /home/mark/miniconda3/envs/rag/lib/python3.11/site-packages (from aiohttp->datasets==2.19.2) (25.3.0)\n",
      "Requirement already satisfied: frozenlist>=1.1.1 in /home/mark/miniconda3/envs/rag/lib/python3.11/site-packages (from aiohttp->datasets==2.19.2) (1.6.0)\n",
      "Requirement already satisfied: multidict<7.0,>=4.5 in /home/mark/miniconda3/envs/rag/lib/python3.11/site-packages (from aiohttp->datasets==2.19.2) (6.4.3)\n",
      "Requirement already satisfied: propcache>=0.2.0 in /home/mark/miniconda3/envs/rag/lib/python3.11/site-packages (from aiohttp->datasets==2.19.2) (0.3.1)\n",
      "Requirement already satisfied: yarl<2.0,>=1.17.0 in /home/mark/miniconda3/envs/rag/lib/python3.11/site-packages (from aiohttp->datasets==2.19.2) (1.20.0)\n",
      "Requirement already satisfied: idna>=2.0 in /home/mark/miniconda3/envs/rag/lib/python3.11/site-packages (from yarl<2.0,>=1.17.0->aiohttp->datasets==2.19.2) (3.10)\n",
      "Requirement already satisfied: typing-extensions>=3.7.4.3 in /home/mark/miniconda3/envs/rag/lib/python3.11/site-packages (from huggingface-hub>=0.21.2->datasets==2.19.2) (4.13.2)\n",
      "Requirement already satisfied: charset-normalizer<4,>=2 in /home/mark/miniconda3/envs/rag/lib/python3.11/site-packages (from requests>=2.32.1->datasets==2.19.2) (3.4.2)\n",
      "Requirement already satisfied: urllib3<3,>=1.21.1 in /home/mark/miniconda3/envs/rag/lib/python3.11/site-packages (from requests>=2.32.1->datasets==2.19.2) (2.4.0)\n",
      "Requirement already satisfied: certifi>=2017.4.17 in /home/mark/miniconda3/envs/rag/lib/python3.11/site-packages (from requests>=2.32.1->datasets==2.19.2) (2025.4.26)\n",
      "Requirement already satisfied: python-dateutil>=2.8.1 in /home/mark/miniconda3/envs/rag/lib/python3.11/site-packages (from pandas->datasets==2.19.2) (2.9.0.post0)\n",
      "Requirement already satisfied: pytz>=2020.1 in /home/mark/miniconda3/envs/rag/lib/python3.11/site-packages (from pandas->datasets==2.19.2) (2025.2)\n",
      "Requirement already satisfied: six>=1.5 in /home/mark/miniconda3/envs/rag/lib/python3.11/site-packages (from python-dateutil>=2.8.1->pandas->datasets==2.19.2) (1.17.0)\n",
      "Requirement already satisfied: ipywidgets in /home/mark/miniconda3/envs/rag/lib/python3.11/site-packages (8.1.7)\n",
      "Requirement already satisfied: comm>=0.1.3 in /home/mark/miniconda3/envs/rag/lib/python3.11/site-packages (from ipywidgets) (0.2.2)\n",
      "Requirement already satisfied: ipython>=6.1.0 in /home/mark/miniconda3/envs/rag/lib/python3.11/site-packages (from ipywidgets) (9.2.0)\n",
      "Requirement already satisfied: traitlets>=4.3.1 in /home/mark/miniconda3/envs/rag/lib/python3.11/site-packages (from ipywidgets) (5.14.3)\n",
      "Requirement already satisfied: widgetsnbextension~=4.0.14 in /home/mark/miniconda3/envs/rag/lib/python3.11/site-packages (from ipywidgets) (4.0.14)\n",
      "Requirement already satisfied: jupyterlab_widgets~=3.0.15 in /home/mark/miniconda3/envs/rag/lib/python3.11/site-packages (from ipywidgets) (3.0.15)\n",
      "Requirement already satisfied: decorator in /home/mark/miniconda3/envs/rag/lib/python3.11/site-packages (from ipython>=6.1.0->ipywidgets) (5.2.1)\n",
      "Requirement already satisfied: ipython-pygments-lexers in /home/mark/miniconda3/envs/rag/lib/python3.11/site-packages (from ipython>=6.1.0->ipywidgets) (1.1.1)\n",
      "Requirement already satisfied: jedi>=0.16 in /home/mark/miniconda3/envs/rag/lib/python3.11/site-packages (from ipython>=6.1.0->ipywidgets) (0.19.2)\n",
      "Requirement already satisfied: matplotlib-inline in /home/mark/miniconda3/envs/rag/lib/python3.11/site-packages (from ipython>=6.1.0->ipywidgets) (0.1.7)\n",
      "Requirement already satisfied: pexpect>4.3 in /home/mark/miniconda3/envs/rag/lib/python3.11/site-packages (from ipython>=6.1.0->ipywidgets) (4.9.0)\n",
      "Requirement already satisfied: prompt_toolkit<3.1.0,>=3.0.41 in /home/mark/miniconda3/envs/rag/lib/python3.11/site-packages (from ipython>=6.1.0->ipywidgets) (3.0.51)\n",
      "Requirement already satisfied: pygments>=2.4.0 in /home/mark/miniconda3/envs/rag/lib/python3.11/site-packages (from ipython>=6.1.0->ipywidgets) (2.19.1)\n",
      "Requirement already satisfied: stack_data in /home/mark/miniconda3/envs/rag/lib/python3.11/site-packages (from ipython>=6.1.0->ipywidgets) (0.6.3)\n",
      "Requirement already satisfied: typing_extensions>=4.6 in /home/mark/miniconda3/envs/rag/lib/python3.11/site-packages (from ipython>=6.1.0->ipywidgets) (4.13.2)\n",
      "Requirement already satisfied: wcwidth in /home/mark/miniconda3/envs/rag/lib/python3.11/site-packages (from prompt_toolkit<3.1.0,>=3.0.41->ipython>=6.1.0->ipywidgets) (0.2.13)\n",
      "Requirement already satisfied: parso<0.9.0,>=0.8.4 in /home/mark/miniconda3/envs/rag/lib/python3.11/site-packages (from jedi>=0.16->ipython>=6.1.0->ipywidgets) (0.8.4)\n",
      "Requirement already satisfied: ptyprocess>=0.5 in /home/mark/miniconda3/envs/rag/lib/python3.11/site-packages (from pexpect>4.3->ipython>=6.1.0->ipywidgets) (0.7.0)\n",
      "Requirement already satisfied: executing>=1.2.0 in /home/mark/miniconda3/envs/rag/lib/python3.11/site-packages (from stack_data->ipython>=6.1.0->ipywidgets) (2.2.0)\n",
      "Requirement already satisfied: asttokens>=2.1.0 in /home/mark/miniconda3/envs/rag/lib/python3.11/site-packages (from stack_data->ipython>=6.1.0->ipywidgets) (3.0.0)\n",
      "Requirement already satisfied: pure_eval in /home/mark/miniconda3/envs/rag/lib/python3.11/site-packages (from stack_data->ipython>=6.1.0->ipywidgets) (0.2.3)\n"
     ]
    }
   ],
   "source": [
    "! pip install elasticsearch sentence_transformers transformers eland==8.12.1\n",
    "! pip install datasets==2.19.2\n",
    "! pip install ipywidgets"
   ]
  },
  {
   "cell_type": "markdown",
   "id": "83a4e336",
   "metadata": {},
   "source": [
    "## 2. 数据"
   ]
  },
  {
   "cell_type": "code",
   "execution_count": 2,
   "id": "30d6666d",
   "metadata": {},
   "outputs": [
    {
     "data": {
      "text/plain": [
       "DatasetDict({\n",
       "    train: Dataset({\n",
       "        features: ['plot', 'genres', 'runtime', 'cast', 'num_mflix_comments', 'poster', 'title', 'fullplot', 'languages', 'directors', 'writers', 'awards', 'imdb', 'countries', 'type', 'plot_embedding', 'rated', 'metacritic'],\n",
       "        num_rows: 1500\n",
       "    })\n",
       "})"
      ]
     },
     "execution_count": 2,
     "metadata": {},
     "output_type": "execute_result"
    }
   ],
   "source": [
    "# 下载数据集\n",
    "from datasets import load_dataset\n",
    "\n",
    "# https://huggingface.co/datasets/MongoDB/embedded_movies\n",
    "dataset = load_dataset(\"MongoDB/embedded_movies\")\n",
    "\n",
    "dataset"
   ]
  },
  {
   "cell_type": "code",
   "execution_count": 3,
   "id": "002be931",
   "metadata": {},
   "outputs": [
    {
     "data": {
      "text/plain": [
       "Dataset({\n",
       "    features: ['plot', 'genres', 'runtime', 'cast', 'num_mflix_comments', 'poster', 'title', 'fullplot', 'languages', 'directors', 'writers', 'awards', 'imdb', 'countries', 'type', 'rated', 'metacritic'],\n",
       "    num_rows: 1452\n",
       "})"
      ]
     },
     "execution_count": 3,
     "metadata": {},
     "output_type": "execute_result"
    }
   ],
   "source": [
    "# 数据预处理\n",
    "\n",
    "# 删除数据集中缺少 plot 列的数据点\n",
    "dataset = dataset.filter(lambda x: x[\"fullplot\"] is not None)\n",
    "\n",
    "if \"plot_embedding\" in sum(dataset.column_names.values(), []):\n",
    "    # Remove the plot_embedding from each data point in the dataset as we are going to create new embeddings with an open source embedding model from Hugging Face\n",
    "    dataset = dataset.remove_columns(\"plot_embedding\")\n",
    "\n",
    "dataset[\"train\"]"
   ]
  },
  {
   "cell_type": "markdown",
   "id": "1e23127b",
   "metadata": {},
   "source": [
    "## 3. embedding 模型"
   ]
  },
  {
   "cell_type": "code",
   "execution_count": 4,
   "id": "cad457c9",
   "metadata": {},
   "outputs": [],
   "source": [
    "# 定义模型参数\n",
    "EMBEDDING_MODEL_ID = \"thenlper/gte-small\"\n",
    "EMBEDDING_DIMENSIONS = 384"
   ]
  },
  {
   "cell_type": "code",
   "execution_count": 5,
   "id": "14089838",
   "metadata": {},
   "outputs": [
    {
     "name": "stderr",
     "output_type": "stream",
     "text": [
      "/home/mark/miniconda3/envs/rag/lib/python3.11/site-packages/torch/cuda/__init__.py:174: UserWarning: CUDA initialization: CUDA unknown error - this may be due to an incorrectly set up environment, e.g. changing env variable CUDA_VISIBLE_DEVICES after program start. Setting the available devices to be zero. (Triggered internally at /pytorch/c10/cuda/CUDAFunctions.cpp:109.)\n",
      "  return torch._C._cuda_getDeviceCount() > 0\n"
     ]
    },
    {
     "data": {
      "text/plain": [
       "Dataset({\n",
       "    features: ['plot', 'genres', 'runtime', 'cast', 'num_mflix_comments', 'poster', 'title', 'fullplot', 'languages', 'directors', 'writers', 'awards', 'imdb', 'countries', 'type', 'rated', 'metacritic', 'embedding'],\n",
       "    num_rows: 1452\n",
       "})"
      ]
     },
     "execution_count": 5,
     "metadata": {},
     "output_type": "execute_result"
    }
   ],
   "source": [
    "from sentence_transformers import SentenceTransformer\n",
    "\n",
    "embedding_model = SentenceTransformer(EMBEDDING_MODEL_ID)\n",
    "\n",
    "def get_embedding(text: str) -> list[float]:\n",
    "    if not text.strip():\n",
    "        print(\"Attempted to get embedding for empty text.\")\n",
    "        return []\n",
    "\n",
    "    embedding = embedding_model.encode(text)\n",
    "    return embedding.tolist()\n",
    "\n",
    "def add_fullplot_embedding(x):\n",
    "    full_plots = x[\"fullplot\"]\n",
    "    return {\"embedding\": [get_embedding(full_plot) for full_plot in full_plots]}\n",
    "\n",
    "dataset = dataset.map(add_fullplot_embedding, batched=True)\n",
    "dataset[\"train\"]"
   ]
  },
  {
   "cell_type": "markdown",
   "id": "891456cf",
   "metadata": {},
   "source": [
    "## 4. 创建索引"
   ]
  },
  {
   "cell_type": "code",
   "execution_count": null,
   "id": "7cff3a30",
   "metadata": {},
   "outputs": [],
   "source": [
    "ELASTICSEARCH_HOST = \"Your Elasticsearch Host\"\n",
    "ELASTICSEARCH_API_KEY = \"Your API Key\""
   ]
  },
  {
   "cell_type": "code",
   "execution_count": 7,
   "id": "aa0259ce",
   "metadata": {},
   "outputs": [
    {
     "name": "stdout",
     "output_type": "stream",
     "text": [
      "Deleting existing movies\n"
     ]
    },
    {
     "name": "stderr",
     "output_type": "stream",
     "text": [
      "/tmp/ipykernel_2243587/908769758.py:24: DeprecationWarning: Passing transport options in the API method is deprecated. Use 'Elasticsearch.options()' instead.\n",
      "  client.indices.delete(index=index_name, ignore=[400, 404])\n"
     ]
    },
    {
     "name": "stdout",
     "output_type": "stream",
     "text": [
      "Creating index movies\n"
     ]
    },
    {
     "data": {
      "text/plain": [
       "ObjectApiResponse({'acknowledged': True, 'shards_acknowledged': True, 'index': 'movies'})"
      ]
     },
     "execution_count": 7,
     "metadata": {},
     "output_type": "execute_result"
    }
   ],
   "source": [
    "# 确保可以访问你的 Elasticsearch ，也可以在 Elastic Cloud上创建一个\n",
    "model_id = EMBEDDING_MODEL_ID.replace(\"/\", \"__\")\n",
    "from elasticsearch import Elasticsearch, helpers\n",
    "\n",
    "client = Elasticsearch(ELASTICSEARCH_HOST, api_key=ELASTICSEARCH_API_KEY)\n",
    "\n",
    "index_name = \"movies\"\n",
    "index_mapping = {\n",
    "    \"properties\": {\n",
    "        \"fullplot\": {\"type\": \"text\"},\n",
    "        \"plot\": {\"type\": \"text\"},\n",
    "        \"title\": {\"type\": \"text\"},\n",
    "    }\n",
    "}\n",
    "index_mapping[\"properties\"][\"embedding\"] = {\n",
    "    \"type\": \"dense_vector\",\n",
    "    \"dims\": EMBEDDING_DIMENSIONS,\n",
    "    \"index\": \"true\",\n",
    "    \"similarity\": \"cosine\",\n",
    "}\n",
    "\n",
    "if client.indices.exists(index=index_name):\n",
    "    print(\"Deleting existing %s\" % index_name)\n",
    "    client.indices.delete(index=index_name, ignore=[400, 404])\n",
    "\n",
    "print(\"Creating index %s\" % index_name)\n",
    "\n",
    "client.options(ignore_status=[400, 404]).indices.create(\n",
    "    index=index_name, mappings=index_mapping\n",
    ")"
   ]
  },
  {
   "cell_type": "markdown",
   "id": "638827b4",
   "metadata": {},
   "source": [
    "## 5. 数据上传到 Elasticsearch"
   ]
  },
  {
   "cell_type": "code",
   "execution_count": 8,
   "id": "96b373c1",
   "metadata": {},
   "outputs": [
    {
     "name": "stdout",
     "output_type": "stream",
     "text": [
      "batch: start [0], end [100]\n",
      "batch: start [100], end [200]\n",
      "batch: start [200], end [300]\n",
      "batch: start [300], end [400]\n",
      "batch: start [400], end [500]\n",
      "batch: start [500], end [600]\n",
      "batch: start [600], end [700]\n",
      "batch: start [700], end [800]\n",
      "batch: start [800], end [900]\n",
      "batch: start [900], end [1000]\n",
      "batch: start [1000], end [1100]\n",
      "batch: start [1100], end [1200]\n",
      "batch: start [1200], end [1300]\n",
      "batch: start [1300], end [1400]\n",
      "batch: start [1400], end [1452]\n",
      "Data ingestion into Elasticsearch complete!\n"
     ]
    }
   ],
   "source": [
    "from elasticsearch.helpers import BulkIndexError\n",
    "\n",
    "def batch_to_bulk_actions(batch):\n",
    "    for record in batch:\n",
    "        action = {\n",
    "            \"_index\": \"movies\",\n",
    "            \"_source\": {\n",
    "                \"title\": record[\"title\"],\n",
    "                \"fullplot\": record[\"fullplot\"],\n",
    "                \"plot\": record[\"plot\"],\n",
    "            },\n",
    "        }\n",
    "        action[\"_source\"][\"embedding\"] = record[\"embedding\"]\n",
    "        yield action\n",
    "\n",
    "\n",
    "def bulk_index(ds):\n",
    "    start = 0\n",
    "    end = len(ds)\n",
    "    batch_size = 100\n",
    "    for batch_start in range(start, end, batch_size):\n",
    "        batch_end = min(batch_start + batch_size, end)\n",
    "        print(f\"batch: start [{batch_start}], end [{batch_end}]\")\n",
    "        batch = ds.select(range(batch_start, batch_end))\n",
    "        actions = batch_to_bulk_actions(batch)\n",
    "        helpers.bulk(client, actions)\n",
    "\n",
    "try:\n",
    "    bulk_index(dataset[\"train\"])\n",
    "except BulkIndexError as e:\n",
    "    print(f\"{e.errors}\")\n",
    "\n",
    "print(\"Data ingestion into Elasticsearch complete!\")"
   ]
  },
  {
   "cell_type": "markdown",
   "id": "c4e349c9",
   "metadata": {},
   "source": [
    "## 6. 对用户查询执行向量搜索"
   ]
  },
  {
   "cell_type": "code",
   "execution_count": 9,
   "id": "b02f7b2e",
   "metadata": {},
   "outputs": [],
   "source": [
    "def vector_search(plot_query):\n",
    "    question_embedding = get_embedding(plot_query)\n",
    "    knn = {\n",
    "        \"field\": \"embedding\",\n",
    "        \"query_vector\": question_embedding,\n",
    "        \"k\": 10,\n",
    "        \"num_candidates\": 150,\n",
    "    }\n",
    "\n",
    "    response = client.search(index=\"movies\", knn=knn, size=5)\n",
    "    results = []\n",
    "    for hit in response[\"hits\"][\"hits\"]:\n",
    "        id = hit[\"_id\"]\n",
    "        score = hit[\"_score\"]\n",
    "        title = hit[\"_source\"][\"title\"]\n",
    "        plot = hit[\"_source\"][\"plot\"]\n",
    "        fullplot = hit[\"_source\"][\"fullplot\"]\n",
    "        result = {\n",
    "            \"id\": id,\n",
    "            \"_score\": score,\n",
    "            \"title\": title,\n",
    "            \"plot\": plot,\n",
    "            \"fullplot\": fullplot,\n",
    "        }\n",
    "        results.append(result)\n",
    "    return results\n",
    "\n",
    "def pretty_search(query):\n",
    "    get_knowledge = vector_search(query)\n",
    "    search_result = \"\"\n",
    "    for result in get_knowledge:\n",
    "        search_result += f\"Title: {result.get('title', 'N/A')}, Plot: {result.get('fullplot', 'N/A')}\\n\"\n",
    "    return search_result"
   ]
  },
  {
   "cell_type": "code",
   "execution_count": 10,
   "id": "1bdb2ac9",
   "metadata": {},
   "outputs": [
    {
     "name": "stdout",
     "output_type": "stream",
     "text": [
      "Query: What is the best romantic movie to watch and why?\n",
      "Continue to answer the query by using these Search Results:\n",
      "Title: Shut Up and Kiss Me!, Plot: Ryan and Pete are 27-year old best friends in Miami, born on the same day and each searching for the perfect woman. Ryan is a rookie stockbroker living with his psychic Mom. Pete is a slick surfer dude yet to find commitment. Each meets the women of their dreams on the same day. Ryan knocks heads in an elevator with the gorgeous Jessica, passing out before getting her number. Pete falls for the insatiable Tiara, but Tiara's uncle is mob boss Vincent Bublione, charged with her protection. This high-energy romantic comedy asks to what extent will you go for true love?\n",
      "Title: Titanic, Plot: The plot focuses on the romances of two couples upon the doomed ship's maiden voyage. Isabella Paradine (Catherine Zeta-Jones) is a wealthy woman mourning the loss of her aunt, who reignites a romance with former flame Wynn Park (Peter Gallagher). Meanwhile, a charming ne'er-do-well named Jamie Perse (Mike Doyle) steals a ticket for the ship, and falls for a sweet innocent Irish girl on board. But their romance is threatened by the villainous Simon Doonan (Tim Curry), who has discovered about the ticket and makes Jamie his unwilling accomplice, as well as having sinister plans for the girl.\n",
      "Title: Dark Blue World, Plot: March 15, 1939: Germany invades Czechoslovakia. Czech and Slovak pilots flee to England, joining the RAF. After the war, back home, they are put in labor camps, suspected of anti-Communist ideas. This film cuts between a post-war camp where Franta is a prisoner and England during the war, where Franta is like a big brother to Karel, a very young pilot. On maneuvers, Karel crash lands by the rural home of Susan, an English woman whose husband is MIA. She spends one night with Karel, and he thinks he's found the love of his life. It's complicated by Susan's attraction to Franta. How will the three handle innocence, Eros, friendship, and the heat of battle? When war ends, what then?\n",
      "Title: Dark Blue World, Plot: March 15, 1939: Germany invades Czechoslovakia. Czech and Slovak pilots flee to England, joining the RAF. After the war, back home, they are put in labor camps, suspected of anti-Communist ideas. This film cuts between a post-war camp where Franta is a prisoner and England during the war, where Franta is like a big brother to Karel, a very young pilot. On maneuvers, Karel crash lands by the rural home of Susan, an English woman whose husband is MIA. She spends one night with Karel, and he thinks he's found the love of his life. It's complicated by Susan's attraction to Franta. How will the three handle innocence, Eros, friendship, and the heat of battle? When war ends, what then?\n",
      "Title: No Good Deed, Plot: About a police detective, Jack, who, while doing a friend a favor and searching for a runaway teenager on Turk Street, stumbles upon a bizarre band of criminals about to pull off a bank robbery. Jack finds himself being held hostage while the criminals decide what to do with him, and the leader's beautiful girlfriend, Erin, is left alone to watch Jack. Erin, who we discover is a master manipulator of the men in the gang, reveals another side to Jack - a melancholy romantic who could have been a classical cellist. She finds Jack's captivity an irresistible turn-on and he can't figure out if she's for real, or manipulating him, too. Before the gang returns, Jack and Erin's connection intensifies and who ends up with the money is anyone's guess.\n",
      ".\n"
     ]
    }
   ],
   "source": [
    "# 结合搜索结果和问题\n",
    "def combined_query(query):\n",
    "    source_information = pretty_search(query)\n",
    "    return f\"Query: {query}\\nContinue to answer the query by using these Search Results:\\n{source_information}.\"\n",
    "\n",
    "\n",
    "query = \"What is the best romantic movie to watch and why?\"\n",
    "combined_results = combined_query(query)\n",
    "\n",
    "print(combined_results)"
   ]
  }
 ],
 "metadata": {
  "kernelspec": {
   "display_name": "rag",
   "language": "python",
   "name": "python3"
  },
  "language_info": {
   "codemirror_mode": {
    "name": "ipython",
    "version": 3
   },
   "file_extension": ".py",
   "mimetype": "text/x-python",
   "name": "python",
   "nbconvert_exporter": "python",
   "pygments_lexer": "ipython3",
   "version": "3.11.11"
  }
 },
 "nbformat": 4,
 "nbformat_minor": 5
}
